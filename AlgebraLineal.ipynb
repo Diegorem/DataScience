{
 "cells": [
  {
   "metadata": {
    "ExecuteTime": {
     "end_time": "2025-04-23T16:26:29.184885Z",
     "start_time": "2025-04-23T16:26:29.177232Z"
    }
   },
   "cell_type": "code",
   "source": "import numpy as np",
   "id": "e9901ee0a2d57ebe",
   "outputs": [],
   "execution_count": 2
  },
  {
   "metadata": {},
   "cell_type": "markdown",
   "source": "Suma de matrices",
   "id": "3323bffd757c650f"
  },
  {
   "cell_type": "code",
   "id": "initial_id",
   "metadata": {
    "collapsed": true,
    "ExecuteTime": {
     "end_time": "2025-04-23T16:41:15.403989Z",
     "start_time": "2025-04-23T16:41:15.392836Z"
    }
   },
   "source": [
    "A = np.array([[1,2], [4,5]])\n",
    "B = np.array([[4,3],[7,4]])\n",
    "suma = A + B\n",
    "print(\"Suma de matrices \\n\",suma)"
   ],
   "outputs": [
    {
     "name": "stdout",
     "output_type": "stream",
     "text": [
      "Suma de matrices \n",
      " [[ 5  5]\n",
      " [11  9]]\n"
     ]
    }
   ],
   "execution_count": 17
  },
  {
   "metadata": {},
   "cell_type": "markdown",
   "source": "Multiplicación de matrices",
   "id": "5217fefe6e0d1528"
  },
  {
   "metadata": {
    "ExecuteTime": {
     "end_time": "2025-04-23T16:32:08.290988Z",
     "start_time": "2025-04-23T16:32:08.278953Z"
    }
   },
   "cell_type": "code",
   "source": [
    "mult = np.dot(A,B)\n",
    "print(\"Producto de matrices \\n\", mult)"
   ],
   "id": "68d647fd2d886a80",
   "outputs": [
    {
     "name": "stdout",
     "output_type": "stream",
     "text": [
      "Producto de matrices \n",
      " [[18 11]\n",
      " [51 32]]\n"
     ]
    }
   ],
   "execution_count": 11
  },
  {
   "metadata": {},
   "cell_type": "markdown",
   "source": "Transposición de matriz",
   "id": "7a49837d878f46d8"
  },
  {
   "metadata": {
    "ExecuteTime": {
     "end_time": "2025-04-23T16:39:03.916093Z",
     "start_time": "2025-04-23T16:39:03.903770Z"
    }
   },
   "cell_type": "code",
   "source": [
    "transpuesta = A.T\n",
    "print(\"Transpuesta de A: \\n\", transpuesta)"
   ],
   "id": "4c7736eeb95acf41",
   "outputs": [
    {
     "name": "stdout",
     "output_type": "stream",
     "text": [
      "Transpuesta de A: \n",
      " [[1 4]\n",
      " [2 5]]\n"
     ]
    }
   ],
   "execution_count": 13
  },
  {
   "metadata": {},
   "cell_type": "markdown",
   "source": "Determinante de una matriz",
   "id": "ecc61d672bb1c16"
  },
  {
   "metadata": {},
   "cell_type": "markdown",
   "source": "El determinante es un valor único que puede calcularse a partir de una matriz cuadrada",
   "id": "db18ded3b1662ff0"
  },
  {
   "metadata": {
    "ExecuteTime": {
     "end_time": "2025-04-23T16:40:21.727286Z",
     "start_time": "2025-04-23T16:40:21.713411Z"
    }
   },
   "cell_type": "code",
   "source": [
    "determinante = np.linalg.det(A) #det(A) = (1*5)-(2*4)\n",
    "print(\"Determinante de A: \\n\", determinante)"
   ],
   "id": "4975924b90d878a1",
   "outputs": [
    {
     "name": "stdout",
     "output_type": "stream",
     "text": [
      "Determinante de A: \n",
      " -2.9999999999999996\n"
     ]
    }
   ],
   "execution_count": 15
  },
  {
   "metadata": {},
   "cell_type": "markdown",
   "source": "Inversa de una matriz",
   "id": "472d5bf1738ffebb"
  },
  {
   "metadata": {
    "ExecuteTime": {
     "end_time": "2025-04-23T16:41:19.622926Z",
     "start_time": "2025-04-23T16:41:19.617601Z"
    }
   },
   "cell_type": "code",
   "source": [
    "inversa = np.linalg.inv(A)\n",
    "print(\"Inversa de A: \\n\", inversa)"
   ],
   "id": "3c8a45660ff81442",
   "outputs": [
    {
     "name": "stdout",
     "output_type": "stream",
     "text": [
      "Inversa de A: \n",
      " [[-1.66666667  0.66666667]\n",
      " [ 1.33333333 -0.33333333]]\n"
     ]
    }
   ],
   "execution_count": 18
  },
  {
   "metadata": {},
   "cell_type": "markdown",
   "source": "Valores y Vectores propios",
   "id": "d4e5d663fc88df5b"
  },
  {
   "metadata": {},
   "cell_type": "markdown",
   "source": "Los valores propios y los vectores propios son fundamentales en muchas aplicaciones, como en la compresión de datos y el análisis de sistemas dinámicos.",
   "id": "28458a3ee36d91a6"
  },
  {
   "metadata": {
    "ExecuteTime": {
     "end_time": "2025-04-23T16:42:10.337773Z",
     "start_time": "2025-04-23T16:42:10.327674Z"
    }
   },
   "cell_type": "code",
   "source": [
    "valores_propios, vectores_propios = np.linalg.eig(A)\n",
    "print(\"Valores propios: \\n\", valores_propios)\n",
    "print(\"Vectores propios: \\n\", vectores_propios)"
   ],
   "id": "8e659fa276ad0c82",
   "outputs": [
    {
     "name": "stdout",
     "output_type": "stream",
     "text": [
      "Valores propios: \n",
      " [-0.46410162  6.46410162]\n",
      "Vectores propios: \n",
      " [[-0.80689822 -0.34372377]\n",
      " [ 0.59069049 -0.9390708 ]]\n"
     ]
    }
   ],
   "execution_count": 19
  },
  {
   "metadata": {},
   "cell_type": "markdown",
   "source": "Sistema de ecuaciones lineales AX = BAX = BAX = B",
   "id": "2db8d08e0de71be7"
  },
  {
   "metadata": {
    "ExecuteTime": {
     "end_time": "2025-04-23T16:45:12.128440Z",
     "start_time": "2025-04-23T16:45:12.121181Z"
    }
   },
   "cell_type": "code",
   "source": [
    "B = np.array ([1,2])\n",
    "X = np.linalg.solve(A,B)\n",
    "print(\"Solución del sistema AX = B:\\n\", X)"
   ],
   "id": "9c1bb7c218522c43",
   "outputs": [
    {
     "name": "stdout",
     "output_type": "stream",
     "text": [
      "Solución del sistema AX = B:\n",
      " [-0.33333333  0.66666667]\n"
     ]
    }
   ],
   "execution_count": 20
  },
  {
   "metadata": {},
   "cell_type": "code",
   "outputs": [],
   "execution_count": null,
   "source": "",
   "id": "6c8880874491ab34"
  }
 ],
 "metadata": {
  "kernelspec": {
   "display_name": "Python 3",
   "language": "python",
   "name": "python3"
  },
  "language_info": {
   "codemirror_mode": {
    "name": "ipython",
    "version": 2
   },
   "file_extension": ".py",
   "mimetype": "text/x-python",
   "name": "python",
   "nbconvert_exporter": "python",
   "pygments_lexer": "ipython2",
   "version": "2.7.6"
  }
 },
 "nbformat": 4,
 "nbformat_minor": 5
}
