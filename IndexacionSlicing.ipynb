{
 "cells": [
  {
   "cell_type": "code",
   "id": "initial_id",
   "metadata": {
    "collapsed": true,
    "ExecuteTime": {
     "end_time": "2025-04-23T16:55:04.052179Z",
     "start_time": "2025-04-23T16:55:04.046786Z"
    }
   },
   "source": [
    "import numpy as np\n",
    "\n",
    "array = np.array([10,20,30,40,50])\n",
    "print(array[1])\n",
    "print(array[-1])\n",
    "print(array[1:4])"
   ],
   "outputs": [
    {
     "name": "stdout",
     "output_type": "stream",
     "text": [
      "20\n",
      "50\n",
      "[20 30 40]\n"
     ]
    }
   ],
   "execution_count": 3
  },
  {
   "metadata": {},
   "cell_type": "markdown",
   "source": "Indexación booleana",
   "id": "d64f73bfabfae893"
  },
  {
   "metadata": {
    "ExecuteTime": {
     "end_time": "2025-04-23T17:00:05.434439Z",
     "start_time": "2025-04-23T17:00:05.428916Z"
    }
   },
   "cell_type": "code",
   "source": [
    "bool_index = array > 25\n",
    "print(bool_index)\n",
    "print(type(bool_index))"
   ],
   "id": "5f7b5fc21cedac80",
   "outputs": [
    {
     "name": "stdout",
     "output_type": "stream",
     "text": [
      "[False False  True  True  True]\n",
      "<class 'numpy.ndarray'>\n"
     ]
    }
   ],
   "execution_count": 5
  },
  {
   "metadata": {
    "ExecuteTime": {
     "end_time": "2025-04-23T17:01:35.416076Z",
     "start_time": "2025-04-23T17:01:35.411143Z"
    }
   },
   "cell_type": "code",
   "source": [
    "index = [2,0,3]\n",
    "print(array[index])"
   ],
   "id": "e1d3205265c38b6",
   "outputs": [
    {
     "name": "stdout",
     "output_type": "stream",
     "text": [
      "[30 10 40]\n"
     ]
    }
   ],
   "execution_count": 8
  },
  {
   "metadata": {
    "ExecuteTime": {
     "end_time": "2025-04-23T17:04:03.698228Z",
     "start_time": "2025-04-23T17:04:03.692587Z"
    }
   },
   "cell_type": "code",
   "source": [
    "array_big = np.random.randint(1,20, size = (3,3))\n",
    "print(array_big)\n",
    "print(array_big[0,1])"
   ],
   "id": "b0edd326d5e40df6",
   "outputs": [
    {
     "name": "stdout",
     "output_type": "stream",
     "text": [
      "[[ 2  7 15]\n",
      " [19 19  8]\n",
      " [14  7  1]]\n",
      "7\n"
     ]
    }
   ],
   "execution_count": 13
  },
  {
   "metadata": {
    "ExecuteTime": {
     "end_time": "2025-04-23T17:05:21.368888Z",
     "start_time": "2025-04-23T17:05:21.363589Z"
    }
   },
   "cell_type": "code",
   "source": "print(array_big[:2,:2])",
   "id": "c5dd57d331d952e5",
   "outputs": [
    {
     "name": "stdout",
     "output_type": "stream",
     "text": [
      "[[ 2  7]\n",
      " [19 19]]\n"
     ]
    }
   ],
   "execution_count": 16
  },
  {
   "metadata": {
    "ExecuteTime": {
     "end_time": "2025-04-23T17:06:42.298399Z",
     "start_time": "2025-04-23T17:06:42.285013Z"
    }
   },
   "cell_type": "code",
   "source": [
    "array_big2 = np.random.randint(1,20, size = (20,20))\n",
    "print(array_big2)\n",
    "print(array_big2[5,14])"
   ],
   "id": "305d50f6676f048b",
   "outputs": [
    {
     "name": "stdout",
     "output_type": "stream",
     "text": [
      "[[15  3  4 19 15 14  9 11 11  4 10  6 13 14  7  5 11  8  6  4]\n",
      " [ 3  7 13 13  1  6 14 17  9 11  4  2 15  8 15  6  8 17 18 17]\n",
      " [19 11  3  6 13  9 18 10  1 12  4  3  7  7  9 10 17  7  7  5]\n",
      " [ 8 17 16  5 17 16  2  2 16 10  3  9 16 14 10  7 10  2  4  8]\n",
      " [ 9 12 17 14  4  4  8 14  7  3  7  9  7  3  6 13 14 13  9  5]\n",
      " [12  4  7  9 19 13  2 11  7 10 16 17 19 17 15 17 13  9  1  7]\n",
      " [ 4 14  2 12  5 17 19 12 11  8 18 12  7 16  7  2  3  8 10  7]\n",
      " [16 12 19  2  7 15 15  1  3  4 13  2 12  7  4 14  3 12  8  8]\n",
      " [ 1  7 17 13 12 17 12 12 16 12  6  5 15  7 18  9 19 19 13 10]\n",
      " [13  8 13 19 18  8 10 16 16 16 17 12 18 14  7  1  5  6  3 16]\n",
      " [ 1  5 11 13 14  4 13 15 12 16  5  1 11  4  5 17 17  7  2  5]\n",
      " [ 1 17  9  7 17  2 12  2  2 16 15 16 19 18 10  9  8  9 16  7]\n",
      " [12  1 16 13  9 18 10 14 18  5 17  8  9 18 19 15  8 12  6 13]\n",
      " [ 8 19 18  7  2  9  7  7 16  6 16 11 19  3  7  2  6 17  2  4]\n",
      " [14 10 12 15 15 18  3 12  7  8 19 14 17  7  8 18 13  3  7  5]\n",
      " [ 6 18  4  2  1  9 13 10 15 18 15 15 19 14 10  8  6  1 10  1]\n",
      " [ 2  8 17  9 19  9 10 11 19  9  8 16 12  6 14 15 17 15  8 16]\n",
      " [ 8  3 10 11  4  1  2 12 17  4  1 18 16  8 15 13 11  7 17 16]\n",
      " [ 1  6  4 18 14 13  9 18  7  7 12 13 17  3  1 11  5 18  6  7]\n",
      " [17  4 12 14  9 12 18 15  4 12 19  1 19 12 17 15  6 11 19  4]]\n",
      "15\n"
     ]
    }
   ],
   "execution_count": 18
  },
  {
   "metadata": {
    "ExecuteTime": {
     "end_time": "2025-04-23T17:06:59.518886Z",
     "start_time": "2025-04-23T17:06:59.509721Z"
    }
   },
   "cell_type": "code",
   "source": "print(array_big2[5:14,4:14])",
   "id": "2e624ecdfac590cb",
   "outputs": [
    {
     "name": "stdout",
     "output_type": "stream",
     "text": [
      "[[19 13  2 11  7 10 16 17 19 17]\n",
      " [ 5 17 19 12 11  8 18 12  7 16]\n",
      " [ 7 15 15  1  3  4 13  2 12  7]\n",
      " [12 17 12 12 16 12  6  5 15  7]\n",
      " [18  8 10 16 16 16 17 12 18 14]\n",
      " [14  4 13 15 12 16  5  1 11  4]\n",
      " [17  2 12  2  2 16 15 16 19 18]\n",
      " [ 9 18 10 14 18  5 17  8  9 18]\n",
      " [ 2  9  7  7 16  6 16 11 19  3]]\n"
     ]
    }
   ],
   "execution_count": 19
  },
  {
   "metadata": {},
   "cell_type": "code",
   "outputs": [],
   "execution_count": null,
   "source": "",
   "id": "2979f79eb42dbe85"
  }
 ],
 "metadata": {
  "kernelspec": {
   "display_name": "Python 3",
   "language": "python",
   "name": "python3"
  },
  "language_info": {
   "codemirror_mode": {
    "name": "ipython",
    "version": 2
   },
   "file_extension": ".py",
   "mimetype": "text/x-python",
   "name": "python",
   "nbconvert_exporter": "python",
   "pygments_lexer": "ipython2",
   "version": "2.7.6"
  }
 },
 "nbformat": 4,
 "nbformat_minor": 5
}
