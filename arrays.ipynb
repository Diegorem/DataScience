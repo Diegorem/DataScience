{
 "cells": [
  {
   "metadata": {},
   "cell_type": "markdown",
   "source": "Arrays en numpy",
   "id": "37272c0b31d35b80"
  },
  {
   "cell_type": "code",
   "id": "initial_id",
   "metadata": {
    "collapsed": true,
    "ExecuteTime": {
     "end_time": "2025-04-23T15:49:44.161539Z",
     "start_time": "2025-04-23T15:49:44.149798Z"
    }
   },
   "source": [
    "import numpy as np\n",
    "escalar = np.array(42)\n",
    "print(type(escalar))\n",
    "print(escalar)"
   ],
   "outputs": [
    {
     "name": "stdout",
     "output_type": "stream",
     "text": [
      "<class 'numpy.ndarray'>\n",
      "42\n"
     ]
    }
   ],
   "execution_count": 2
  },
  {
   "metadata": {
    "ExecuteTime": {
     "end_time": "2025-04-23T15:50:23.357950Z",
     "start_time": "2025-04-23T15:50:23.351806Z"
    }
   },
   "cell_type": "code",
   "source": [
    "vector = np.array([30,29,35,31,33,36,42])\n",
    "print(vector)"
   ],
   "id": "4bf71ef6bffdd67",
   "outputs": [
    {
     "name": "stdout",
     "output_type": "stream",
     "text": [
      "[30 29 35 31 33 36 42]\n"
     ]
    }
   ],
   "execution_count": 3
  },
  {
   "metadata": {
    "ExecuteTime": {
     "end_time": "2025-04-23T15:59:32.544670Z",
     "start_time": "2025-04-23T15:59:32.539135Z"
    }
   },
   "cell_type": "code",
   "source": [
    "matrix = np.array([[1,2,3],[4,5,6],[7,8,9],[10,11,12]])\n",
    "print(matrix)"
   ],
   "id": "cf995ad9dbbe87e1",
   "outputs": [
    {
     "name": "stdout",
     "output_type": "stream",
     "text": [
      "[[ 1  2  3]\n",
      " [ 4  5  6]\n",
      " [ 7  8  9]\n",
      " [10 11 12]]\n"
     ]
    }
   ],
   "execution_count": 7
  },
  {
   "metadata": {
    "ExecuteTime": {
     "end_time": "2025-04-23T16:00:32.732855Z",
     "start_time": "2025-04-23T16:00:32.722732Z"
    }
   },
   "cell_type": "code",
   "source": [
    "tensor = np.array([[[1,2],[3,4],[5,6],[7,8]]])\n",
    "print(tensor)"
   ],
   "id": "59fe0778e83bb123",
   "outputs": [
    {
     "name": "stdout",
     "output_type": "stream",
     "text": [
      "[[[1 2]\n",
      "  [3 4]\n",
      "  [5 6]\n",
      "  [7 8]]]\n"
     ]
    }
   ],
   "execution_count": 10
  },
  {
   "metadata": {
    "ExecuteTime": {
     "end_time": "2025-04-23T16:02:06.387904Z",
     "start_time": "2025-04-23T16:02:06.379877Z"
    }
   },
   "cell_type": "code",
   "source": [
    "array_range = np.arange(0,10,2)\n",
    "print(array_range)"
   ],
   "id": "6176a1c48e85870a",
   "outputs": [
    {
     "name": "stdout",
     "output_type": "stream",
     "text": [
      "[0 2 4 6 8]\n"
     ]
    }
   ],
   "execution_count": 13
  },
  {
   "metadata": {
    "ExecuteTime": {
     "end_time": "2025-04-23T16:03:40.935611Z",
     "start_time": "2025-04-23T16:03:40.929621Z"
    }
   },
   "cell_type": "code",
   "source": [
    "eye_matrix = np.eye(5)\n",
    "print(eye_matrix)"
   ],
   "id": "6e988497610d16f0",
   "outputs": [
    {
     "name": "stdout",
     "output_type": "stream",
     "text": [
      "[[1. 0. 0. 0. 0.]\n",
      " [0. 1. 0. 0. 0.]\n",
      " [0. 0. 1. 0. 0.]\n",
      " [0. 0. 0. 1. 0.]\n",
      " [0. 0. 0. 0. 1.]]\n"
     ]
    }
   ],
   "execution_count": 17
  },
  {
   "metadata": {
    "ExecuteTime": {
     "end_time": "2025-04-23T16:03:57.250968Z",
     "start_time": "2025-04-23T16:03:57.245408Z"
    }
   },
   "cell_type": "code",
   "source": [
    "diag = np.diag([1,2,3,4,5,6,7,8,9])\n",
    "print(diag)"
   ],
   "id": "e8bd20ed8c8c861c",
   "outputs": [
    {
     "name": "stdout",
     "output_type": "stream",
     "text": [
      "[[1 0 0 0 0 0 0 0 0]\n",
      " [0 2 0 0 0 0 0 0 0]\n",
      " [0 0 3 0 0 0 0 0 0]\n",
      " [0 0 0 4 0 0 0 0 0]\n",
      " [0 0 0 0 5 0 0 0 0]\n",
      " [0 0 0 0 0 6 0 0 0]\n",
      " [0 0 0 0 0 0 7 0 0]\n",
      " [0 0 0 0 0 0 0 8 0]\n",
      " [0 0 0 0 0 0 0 0 9]]\n"
     ]
    }
   ],
   "execution_count": 19
  },
  {
   "metadata": {
    "ExecuteTime": {
     "end_time": "2025-04-23T16:05:01.292595Z",
     "start_time": "2025-04-23T16:05:01.286093Z"
    }
   },
   "cell_type": "code",
   "source": [
    "random =np.random.random((3,5))\n",
    "print(random)"
   ],
   "id": "833be0da88cbb158",
   "outputs": [
    {
     "name": "stdout",
     "output_type": "stream",
     "text": [
      "[[0.13463942 0.988739   0.56454346 0.07152529 0.09713311]\n",
      " [0.65924922 0.56943468 0.69834874 0.00962268 0.82385164]\n",
      " [0.38764893 0.436918   0.61071567 0.19592326 0.30324157]]\n"
     ]
    }
   ],
   "execution_count": 26
  },
  {
   "metadata": {},
   "cell_type": "markdown",
   "source": "Clase 2",
   "id": "4a82b1236a6515bf"
  },
  {
   "metadata": {
    "ExecuteTime": {
     "end_time": "2025-04-23T16:12:06.049579Z",
     "start_time": "2025-04-23T16:12:06.043276Z"
    }
   },
   "cell_type": "code",
   "source": [
    "array = np.array([[1,2,3],[4,5,6],[7,8,9]])\n",
    "print(array.ndim)\n",
    "print(array.shape)\n",
    "print(array.size)\n",
    "print(array.dtype)"
   ],
   "id": "3ed044636930a93d",
   "outputs": [
    {
     "name": "stdout",
     "output_type": "stream",
     "text": [
      "2\n",
      "(3, 3)\n",
      "9\n",
      "int64\n"
     ]
    }
   ],
   "execution_count": 29
  },
  {
   "metadata": {
    "ExecuteTime": {
     "end_time": "2025-04-23T16:16:14.462466Z",
     "start_time": "2025-04-23T16:16:14.455976Z"
    }
   },
   "cell_type": "code",
   "source": [
    "z = np.array(3, dtype=np.uint8)\n",
    "print(z)"
   ],
   "id": "fc881d74b17a4933",
   "outputs": [
    {
     "name": "stdout",
     "output_type": "stream",
     "text": [
      "3\n"
     ]
    }
   ],
   "execution_count": 31
  },
  {
   "metadata": {
    "ExecuteTime": {
     "end_time": "2025-04-23T16:17:28.991141Z",
     "start_time": "2025-04-23T16:17:28.986079Z"
    }
   },
   "cell_type": "code",
   "source": [
    "double_array = np.array([1.3442,2,3],dtype='d')\n",
    "print(double_array)"
   ],
   "id": "361215b76e02ec1e",
   "outputs": [
    {
     "name": "stdout",
     "output_type": "stream",
     "text": [
      "[1.3442 2.     3.    ]\n"
     ]
    }
   ],
   "execution_count": 33
  },
  {
   "metadata": {
    "ExecuteTime": {
     "end_time": "2025-04-23T16:18:08.497942Z",
     "start_time": "2025-04-23T16:18:08.493526Z"
    }
   },
   "cell_type": "code",
   "source": [
    "z = z.astype(np.float64)\n",
    "print(z)"
   ],
   "id": "73ccc1c8a9fff487",
   "outputs": [
    {
     "name": "stdout",
     "output_type": "stream",
     "text": [
      "3.0\n"
     ]
    }
   ],
   "execution_count": 34
  },
  {
   "metadata": {
    "ExecuteTime": {
     "end_time": "2025-04-23T16:19:00.260386Z",
     "start_time": "2025-04-23T16:19:00.250736Z"
    }
   },
   "cell_type": "code",
   "source": [
    "array = np.array([[1,2,3],[4,5,6],[7,8,9]])\n",
    "add = np.sum(array)\n",
    "print(add)"
   ],
   "id": "f3e0bc9f672b7c51",
   "outputs": [
    {
     "name": "stdout",
     "output_type": "stream",
     "text": [
      "45\n"
     ]
    }
   ],
   "execution_count": 35
  },
  {
   "metadata": {
    "ExecuteTime": {
     "end_time": "2025-04-23T16:21:21.150307Z",
     "start_time": "2025-04-23T16:21:21.144505Z"
    }
   },
   "cell_type": "code",
   "source": [
    "mean = np.mean(array) #Media\n",
    "print(mean)"
   ],
   "id": "4bd9252f2149a09b",
   "outputs": [
    {
     "name": "stdout",
     "output_type": "stream",
     "text": [
      "5.0\n"
     ]
    }
   ],
   "execution_count": 37
  },
  {
   "metadata": {
    "ExecuteTime": {
     "end_time": "2025-04-23T16:21:35.003006Z",
     "start_time": "2025-04-23T16:21:34.995398Z"
    }
   },
   "cell_type": "code",
   "source": [
    "std = np.std(array) #Desviación estandar\n",
    "print(std)"
   ],
   "id": "677cf2c5dc693bf5",
   "outputs": [
    {
     "name": "stdout",
     "output_type": "stream",
     "text": [
      "2.581988897471611\n"
     ]
    }
   ],
   "execution_count": 38
  },
  {
   "metadata": {},
   "cell_type": "code",
   "outputs": [],
   "execution_count": null,
   "source": "",
   "id": "aff132fd0d9eafd8"
  }
 ],
 "metadata": {
  "kernelspec": {
   "display_name": "Python 3",
   "language": "python",
   "name": "python3"
  },
  "language_info": {
   "codemirror_mode": {
    "name": "ipython",
    "version": 2
   },
   "file_extension": ".py",
   "mimetype": "text/x-python",
   "name": "python",
   "nbconvert_exporter": "python",
   "pygments_lexer": "ipython2",
   "version": "2.7.6"
  }
 },
 "nbformat": 4,
 "nbformat_minor": 5
}
