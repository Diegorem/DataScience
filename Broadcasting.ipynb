{
 "cells": [
  {
   "cell_type": "code",
   "id": "initial_id",
   "metadata": {
    "collapsed": true,
    "ExecuteTime": {
     "end_time": "2025-04-23T20:46:30.573991Z",
     "start_time": "2025-04-23T20:46:29.512864Z"
    }
   },
   "source": [
    "import numpy as np\n",
    "prices = np.array([100,200,300])\n",
    "discount = np.array([0.9])\n",
    "discount_prices = prices * discount\n",
    "print(discount_prices)"
   ],
   "outputs": [
    {
     "name": "stdout",
     "output_type": "stream",
     "text": [
      "[ 90. 180. 270.]\n"
     ]
    }
   ],
   "execution_count": 1
  },
  {
   "metadata": {
    "ExecuteTime": {
     "end_time": "2025-04-23T20:49:04.270024Z",
     "start_time": "2025-04-23T20:49:04.259828Z"
    }
   },
   "cell_type": "code",
   "source": [
    "prices = np.random.randint(100,500, size=(3,3))\n",
    "discount = np.array([10,20,30])\n",
    "discount_prices = prices + discount\n",
    "print(prices)\n",
    "print(discount_prices)\n"
   ],
   "id": "4175a606edd2e355",
   "outputs": [
    {
     "name": "stdout",
     "output_type": "stream",
     "text": [
      "[[453 416 146]\n",
      " [177 326 436]\n",
      " [243 171 232]]\n",
      "[[463 436 176]\n",
      " [187 346 466]\n",
      " [253 191 262]]\n"
     ]
    }
   ],
   "execution_count": 3
  },
  {
   "metadata": {
    "ExecuteTime": {
     "end_time": "2025-04-23T20:50:30.610404Z",
     "start_time": "2025-04-23T20:50:30.605447Z"
    }
   },
   "cell_type": "code",
   "source": [
    "array = np.array([1,2,3,4,5])\n",
    "print(np.all(array > 3))"
   ],
   "id": "e05d515dc055897f",
   "outputs": [
    {
     "name": "stdout",
     "output_type": "stream",
     "text": [
      "False\n"
     ]
    }
   ],
   "execution_count": 6
  },
  {
   "metadata": {
    "ExecuteTime": {
     "end_time": "2025-04-23T20:50:50.925809Z",
     "start_time": "2025-04-23T20:50:50.921117Z"
    }
   },
   "cell_type": "code",
   "source": "print(np.any(array > 4))",
   "id": "ce8edf1532185d0f",
   "outputs": [
    {
     "name": "stdout",
     "output_type": "stream",
     "text": [
      "True\n"
     ]
    }
   ],
   "execution_count": 7
  },
  {
   "metadata": {
    "ExecuteTime": {
     "end_time": "2025-04-23T20:54:20.976208Z",
     "start_time": "2025-04-23T20:54:20.967313Z"
    }
   },
   "cell_type": "code",
   "source": [
    "array_a = np.array([1,2,3])\n",
    "array_b = np.array([4,5,6])\n",
    "concatenated_aa = np.concatenate((array_a, array_a))\n",
    "concatenated_ab = np.concatenate((array_a, array_b))\n",
    "print(concatenated_aa)\n",
    "print(concatenated_ab)"
   ],
   "id": "8e79c13321703309",
   "outputs": [
    {
     "name": "stdout",
     "output_type": "stream",
     "text": [
      "[1 2 3 1 2 3]\n",
      "[1 2 3 4 5 6]\n"
     ]
    }
   ],
   "execution_count": 10
  },
  {
   "metadata": {
    "ExecuteTime": {
     "end_time": "2025-04-23T20:55:08.207191Z",
     "start_time": "2025-04-23T20:55:08.202180Z"
    }
   },
   "cell_type": "code",
   "source": [
    "stacked_v = np.vstack((array_a, array_b))\n",
    "print(stacked_v)"
   ],
   "id": "62934d01389e9a3d",
   "outputs": [
    {
     "name": "stdout",
     "output_type": "stream",
     "text": [
      "[[1 2 3]\n",
      " [4 5 6]]\n"
     ]
    }
   ],
   "execution_count": 11
  },
  {
   "metadata": {
    "ExecuteTime": {
     "end_time": "2025-04-23T20:55:58.543569Z",
     "start_time": "2025-04-23T20:55:58.536017Z"
    }
   },
   "cell_type": "code",
   "source": [
    "stacked_h = np.hstack((array_a, array_b))\n",
    "print(stacked_h)"
   ],
   "id": "5807235bbb1a08ca",
   "outputs": [
    {
     "name": "stdout",
     "output_type": "stream",
     "text": [
      "[1 2 3 4 5 6]\n"
     ]
    }
   ],
   "execution_count": 12
  },
  {
   "metadata": {
    "ExecuteTime": {
     "end_time": "2025-04-23T21:00:33.897747Z",
     "start_time": "2025-04-23T21:00:33.886680Z"
    }
   },
   "cell_type": "code",
   "source": [
    "array_sp = np.array([[1,2,3],[4,5,6],[7,8,9]])\n",
    "split_array = np.split(array_sp, 3)\n",
    "print(array_sp)\n",
    "print(split_array)"
   ],
   "id": "27ec9f3da1905089",
   "outputs": [
    {
     "name": "stdout",
     "output_type": "stream",
     "text": [
      "[[1 2 3]\n",
      " [4 5 6]\n",
      " [7 8 9]]\n",
      "[array([[1, 2, 3]]), array([[4, 5, 6]]), array([[7, 8, 9]])]\n"
     ]
    }
   ],
   "execution_count": 19
  },
  {
   "metadata": {},
   "cell_type": "code",
   "outputs": [],
   "execution_count": null,
   "source": "",
   "id": "89d2693a2e7d44b"
  }
 ],
 "metadata": {
  "kernelspec": {
   "display_name": "Python 3",
   "language": "python",
   "name": "python3"
  },
  "language_info": {
   "codemirror_mode": {
    "name": "ipython",
    "version": 2
   },
   "file_extension": ".py",
   "mimetype": "text/x-python",
   "name": "python",
   "nbconvert_exporter": "python",
   "pygments_lexer": "ipython2",
   "version": "2.7.6"
  }
 },
 "nbformat": 4,
 "nbformat_minor": 5
}
